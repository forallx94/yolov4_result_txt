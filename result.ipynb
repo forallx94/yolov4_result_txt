{
 "cells": [
  {
   "cell_type": "code",
   "execution_count": 1,
   "source": [
    "import pandas as pd\r\n",
    "import re\r\n",
    "import os\r\n",
    "import cv2\r\n",
    "import json"
   ],
   "outputs": [],
   "metadata": {}
  },
  {
   "cell_type": "code",
   "execution_count": 2,
   "source": [
    "def extract_info(result):\r\n",
    "    pattern_ = ': |\\\\t\\(left_x: +| +top_y: +| +width: +| +height: +|\\)'\r\n",
    "    total_dict = {}\r\n",
    "    for image_result in result.split('Enter Image Path: ')[1:]:\r\n",
    "        if image_result == '':\r\n",
    "            continue\r\n",
    "        result_dict = {}\r\n",
    "        image_result = image_result.split('\\n')\r\n",
    "\r\n",
    "        path_sec = image_result[0].split(': ')\r\n",
    "        image_path = path_sec[0]\r\n",
    "        result_dict['sec'] = path_sec[1].split(' ')[2] + ' ' + path_sec[1].split(' ')[3]\r\n",
    "\r\n",
    "        result_info = pd.DataFrame([re.split(pattern_, object_) for object_ in image_result[1:-1]])\r\n",
    "        result_info = result_info.drop(6,axis=1)\r\n",
    "        result_info.columns = ['predict','precent','left_x','top_y','width','height']\r\n",
    "        result_dict['image_result'] = result_info\r\n",
    "\r\n",
    "        total_dict[image_path] = result_dict\r\n",
    "    return total_dict\r\n",
    "\r\n",
    "def convertBack(x, y, w, h):\r\n",
    "    xmin = int(x)\r\n",
    "    xmax = int(x + w)\r\n",
    "    ymin = int(y)\r\n",
    "    ymax = int(y + h)\r\n",
    "    return xmin, ymin, xmax, ymax\r\n",
    "\r\n",
    "def cvDrawBoxes(result_info, img):\r\n",
    "    for num, detection in result_info['image_result'].iterrows():\r\n",
    "        x, y, w, h = detection[['left_x', 'top_y','width','height']]\r\n",
    "        xmin, ymin, xmax, ymax = convertBack(float(x), float(y), float(w), float(h))\r\n",
    "        pt1 = (xmin, ymin)\r\n",
    "        pt2 = (xmax, ymax)\r\n",
    "        cv2.rectangle(img, pt1, pt2, (0, 255, 0), 1)\r\n",
    "        cv2.putText(img,\r\n",
    "                    detection['predict'] +\r\n",
    "                    \" [\" + detection['precent'] + \"]\",\r\n",
    "                    (pt1[0], pt1[1] - 5), cv2.FONT_HERSHEY_SIMPLEX, 0.5,\r\n",
    "                    [0, 255, 0], 2)\r\n",
    "    return img"
   ],
   "outputs": [],
   "metadata": {}
  },
  {
   "cell_type": "code",
   "execution_count": 3,
   "source": [
    "output_dir = './result/'\r\n",
    "with open(f'./data/result.txt','r') as f:\r\n",
    "    result = f.read()\r\n",
    "\r\n",
    "# txt 파일에서 데이터 정제\r\n",
    "total_dict = extract_info(result)\r\n",
    "for image_path, result_info in total_dict.items():\r\n",
    "    # jpg 이미지 생성\r\n",
    "    img = cv2.imread(image_path)\r\n",
    "    img = cvDrawBoxes(result_info,img)\r\n",
    "    cv2.imwrite(os.path.join(output_dir, os.path.basename(image_path)),img)\r\n",
    "    \r\n",
    "    # json 생성\r\n",
    "    json_data = result_info['image_result']['predict'].value_counts().to_dict()\r\n",
    "    json_data['sec'] = result_info['sec']\r\n",
    "    json_path = os.path.join(\\\r\n",
    "            output_dir, \\\r\n",
    "            os.path.basename(image_path).split('.')[0] + '.json')\r\n",
    "    with open(json_path, \"w\") as json_file:\r\n",
    "        json.dump(json_data, json_file)\r\n",
    "\r\n",
    "    # csv 파일 생성\r\n",
    "    csv_path = os.path.join(\\\r\n",
    "            output_dir, \\\r\n",
    "            os.path.basename(image_path).split('.')[0] + '.csv')\r\n",
    "    result_info['image_result'][['predict',\t'precent']].to_csv(csv_path)\r\n"
   ],
   "outputs": [],
   "metadata": {}
  },
  {
   "cell_type": "code",
   "execution_count": null,
   "source": [],
   "outputs": [],
   "metadata": {}
  }
 ],
 "metadata": {
  "orig_nbformat": 4,
  "language_info": {
   "name": "python",
   "version": "3.8.11",
   "mimetype": "text/x-python",
   "codemirror_mode": {
    "name": "ipython",
    "version": 3
   },
   "pygments_lexer": "ipython3",
   "nbconvert_exporter": "python",
   "file_extension": ".py"
  },
  "kernelspec": {
   "name": "python3",
   "display_name": "Python 3.8.11 64-bit ('py38tf2': conda)"
  },
  "interpreter": {
   "hash": "f786b47412788e78e454191c2f87ff8c55e16bdd567362c780933370cac632e2"
  }
 },
 "nbformat": 4,
 "nbformat_minor": 2
}